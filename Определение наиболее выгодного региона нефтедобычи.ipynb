{
 "cells": [
  {
   "cell_type": "markdown",
   "metadata": {},
   "source": [
    "# Выбор локации для скважины"
   ]
  },
  {
   "cell_type": "markdown",
   "metadata": {},
   "source": [
    "Допустим, вы работаете в добывающей компании «ГлавРосГосНефть». Нужно решить, где бурить новую скважину.\n",
    "\n",
    "Вам предоставлены пробы нефти в трёх регионах: в каждом 10 000 месторождений, где измерили качество нефти и объём её запасов. Постройте модель машинного обучения, которая поможет определить регион, где добыча принесёт наибольшую прибыль. Проанализируйте возможную прибыль и риски техникой *Bootstrap.*\n",
    "\n",
    "Шаги для выбора локации:\n",
    "\n",
    "- В избранном регионе ищут месторождения, для каждого определяют значения признаков;\n",
    "- Строят модель и оценивают объём запасов;\n",
    "- Выбирают месторождения с самым высокими оценками значений. Количество месторождений зависит от бюджета компании и стоимости разработки одной скважины;\n",
    "- Прибыль равна суммарной прибыли отобранных месторождений."
   ]
  },
  {
   "cell_type": "code",
   "execution_count": 1,
   "metadata": {},
   "outputs": [],
   "source": [
    "import pandas as pd\n",
    "import numpy as np\n",
    "from sklearn.model_selection import train_test_split\n",
    "from sklearn.linear_model import LinearRegression\n",
    "from sklearn.metrics import f1_score\n",
    "from sklearn.metrics import mean_squared_error\n",
    "from sklearn.preprocessing import StandardScaler\n",
    "import math\n",
    "from sklearn.metrics import r2_score\n",
    "from sklearn.utils import resample\n",
    "from sklearn.metrics import accuracy_score"
   ]
  },
  {
   "cell_type": "code",
   "execution_count": 2,
   "metadata": {},
   "outputs": [],
   "source": [
    "STATE = 12345"
   ]
  },
  {
   "cell_type": "markdown",
   "metadata": {},
   "source": [
    "## Загрузка и подготовка данных"
   ]
  },
  {
   "cell_type": "code",
   "execution_count": 3,
   "metadata": {},
   "outputs": [],
   "source": [
    "data_0 = pd.read_csv('/Users/FunnyFunFruit/Desktop/Project_Geo_Oil/geo_data_0.csv')"
   ]
  },
  {
   "cell_type": "code",
   "execution_count": 4,
   "metadata": {},
   "outputs": [
    {
     "data": {
      "text/html": [
       "<div>\n",
       "<style scoped>\n",
       "    .dataframe tbody tr th:only-of-type {\n",
       "        vertical-align: middle;\n",
       "    }\n",
       "\n",
       "    .dataframe tbody tr th {\n",
       "        vertical-align: top;\n",
       "    }\n",
       "\n",
       "    .dataframe thead th {\n",
       "        text-align: right;\n",
       "    }\n",
       "</style>\n",
       "<table border=\"1\" class=\"dataframe\">\n",
       "  <thead>\n",
       "    <tr style=\"text-align: right;\">\n",
       "      <th></th>\n",
       "      <th>id</th>\n",
       "      <th>f0</th>\n",
       "      <th>f1</th>\n",
       "      <th>f2</th>\n",
       "      <th>product</th>\n",
       "    </tr>\n",
       "  </thead>\n",
       "  <tbody>\n",
       "    <tr>\n",
       "      <th>78550</th>\n",
       "      <td>mFE29</td>\n",
       "      <td>-0.659700</td>\n",
       "      <td>0.676928</td>\n",
       "      <td>1.651576</td>\n",
       "      <td>94.617737</td>\n",
       "    </tr>\n",
       "    <tr>\n",
       "      <th>37339</th>\n",
       "      <td>pGwlH</td>\n",
       "      <td>1.650882</td>\n",
       "      <td>-0.194144</td>\n",
       "      <td>2.050160</td>\n",
       "      <td>103.914626</td>\n",
       "    </tr>\n",
       "    <tr>\n",
       "      <th>85783</th>\n",
       "      <td>TvsEY</td>\n",
       "      <td>-0.407310</td>\n",
       "      <td>0.660250</td>\n",
       "      <td>2.766786</td>\n",
       "      <td>114.711601</td>\n",
       "    </tr>\n",
       "    <tr>\n",
       "      <th>10266</th>\n",
       "      <td>Pkwep</td>\n",
       "      <td>1.303006</td>\n",
       "      <td>-0.445062</td>\n",
       "      <td>2.370794</td>\n",
       "      <td>133.050169</td>\n",
       "    </tr>\n",
       "    <tr>\n",
       "      <th>38909</th>\n",
       "      <td>OTsNg</td>\n",
       "      <td>-0.991313</td>\n",
       "      <td>-0.020832</td>\n",
       "      <td>1.974781</td>\n",
       "      <td>125.327630</td>\n",
       "    </tr>\n",
       "  </tbody>\n",
       "</table>\n",
       "</div>"
      ],
      "text/plain": [
       "          id        f0        f1        f2     product\n",
       "78550  mFE29 -0.659700  0.676928  1.651576   94.617737\n",
       "37339  pGwlH  1.650882 -0.194144  2.050160  103.914626\n",
       "85783  TvsEY -0.407310  0.660250  2.766786  114.711601\n",
       "10266  Pkwep  1.303006 -0.445062  2.370794  133.050169\n",
       "38909  OTsNg -0.991313 -0.020832  1.974781  125.327630"
      ]
     },
     "execution_count": 4,
     "metadata": {},
     "output_type": "execute_result"
    }
   ],
   "source": [
    "data_0.sample(5)"
   ]
  },
  {
   "cell_type": "code",
   "execution_count": 5,
   "metadata": {
    "scrolled": true
   },
   "outputs": [
    {
     "name": "stdout",
     "output_type": "stream",
     "text": [
      "<class 'pandas.core.frame.DataFrame'>\n",
      "RangeIndex: 100000 entries, 0 to 99999\n",
      "Data columns (total 5 columns):\n",
      " #   Column   Non-Null Count   Dtype  \n",
      "---  ------   --------------   -----  \n",
      " 0   id       100000 non-null  object \n",
      " 1   f0       100000 non-null  float64\n",
      " 2   f1       100000 non-null  float64\n",
      " 3   f2       100000 non-null  float64\n",
      " 4   product  100000 non-null  float64\n",
      "dtypes: float64(4), object(1)\n",
      "memory usage: 3.8+ MB\n"
     ]
    }
   ],
   "source": [
    "#Выведем на экран основную информацию о датасете\n",
    "data_0.info()"
   ]
  },
  {
   "cell_type": "code",
   "execution_count": 6,
   "metadata": {},
   "outputs": [
    {
     "data": {
      "text/plain": [
       "id         0\n",
       "f0         0\n",
       "f1         0\n",
       "f2         0\n",
       "product    0\n",
       "dtype: int64"
      ]
     },
     "execution_count": 6,
     "metadata": {},
     "output_type": "execute_result"
    }
   ],
   "source": [
    "#Посмотрим количество пропусков в датасете\n",
    "data_0.isna().sum()"
   ]
  },
  {
   "cell_type": "code",
   "execution_count": 7,
   "metadata": {},
   "outputs": [
    {
     "data": {
      "image/png": "[encoded data removed]",
      "text/plain": [
       "<Figure size 720x720 with 4 Axes>"
      ]
     },
     "metadata": {
      "needs_background": "light"
     },
     "output_type": "display_data"
    }
   ],
   "source": [
    "#Выведем гистограммы\n",
    "data_0.hist(figsize=(10,10));"
   ]
  },
  {
   "cell_type": "code",
   "execution_count": 8,
   "metadata": {},
   "outputs": [
    {
     "data": {
      "text/plain": [
       "Index(['f0', 'f1', 'f2', 'product'], dtype='object')"
      ]
     },
     "execution_count": 8,
     "metadata": {},
     "output_type": "execute_result"
    }
   ],
   "source": [
    "#Удалим столбец id, так как он неинформативен для модели\n",
    "data_0.drop('id', axis=1, inplace=True)\n",
    "data_0.columns"
   ]
  },
  {
   "cell_type": "code",
   "execution_count": 9,
   "metadata": {},
   "outputs": [],
   "source": [
    "features_0 = data_0.drop('product', axis=1)\n",
    "target_0 = data_0['product']"
   ]
  },
  {
   "cell_type": "code",
   "execution_count": 10,
   "metadata": {},
   "outputs": [],
   "source": [
    "features_0_train, features_0_valid, target_0_train, target_0_valid = train_test_split(features_0, target_0, test_size=0.25,\n",
    "                                                                                      random_state=STATE)\n",
    "\n",
    "scaler_0 = StandardScaler()\n",
    "features_0_train = scaler_0.fit_transform(features_0_train)\n",
    "features_0_valid = scaler_0.transform(features_0_valid)"
   ]
  },
  {
   "cell_type": "markdown",
   "metadata": {},
   "source": [
    "То же самое сделаем для двух других регионов"
   ]
  },
  {
   "cell_type": "code",
   "execution_count": 11,
   "metadata": {},
   "outputs": [],
   "source": [
    "data_1 = pd.read_csv('/Users/FunnyFunFruit/Desktop/Project_Geo_Oil/geo_data_1.csv')\n",
    "data_2 = pd.read_csv('/Users/FunnyFunFruit/Desktop/Project_Geo_Oil/geo_data_2.csv')"
   ]
  },
  {
   "cell_type": "code",
   "execution_count": 12,
   "metadata": {},
   "outputs": [
    {
     "data": {
      "text/html": [
       "<div>\n",
       "<style scoped>\n",
       "    .dataframe tbody tr th:only-of-type {\n",
       "        vertical-align: middle;\n",
       "    }\n",
       "\n",
       "    .dataframe tbody tr th {\n",
       "        vertical-align: top;\n",
       "    }\n",
       "\n",
       "    .dataframe thead th {\n",
       "        text-align: right;\n",
       "    }\n",
       "</style>\n",
       "<table border=\"1\" class=\"dataframe\">\n",
       "  <thead>\n",
       "    <tr style=\"text-align: right;\">\n",
       "      <th></th>\n",
       "      <th>id</th>\n",
       "      <th>f0</th>\n",
       "      <th>f1</th>\n",
       "      <th>f2</th>\n",
       "      <th>product</th>\n",
       "    </tr>\n",
       "  </thead>\n",
       "  <tbody>\n",
       "    <tr>\n",
       "      <th>24667</th>\n",
       "      <td>tq0Vb</td>\n",
       "      <td>-12.995352</td>\n",
       "      <td>-3.002370</td>\n",
       "      <td>0.002173</td>\n",
       "      <td>3.179103</td>\n",
       "    </tr>\n",
       "    <tr>\n",
       "      <th>77797</th>\n",
       "      <td>j7pNz</td>\n",
       "      <td>9.550264</td>\n",
       "      <td>1.763144</td>\n",
       "      <td>0.999337</td>\n",
       "      <td>26.953261</td>\n",
       "    </tr>\n",
       "    <tr>\n",
       "      <th>48156</th>\n",
       "      <td>Vg0MX</td>\n",
       "      <td>-3.409155</td>\n",
       "      <td>-10.560843</td>\n",
       "      <td>0.996944</td>\n",
       "      <td>30.132364</td>\n",
       "    </tr>\n",
       "    <tr>\n",
       "      <th>36697</th>\n",
       "      <td>aMgRb</td>\n",
       "      <td>-0.333750</td>\n",
       "      <td>3.279738</td>\n",
       "      <td>4.007467</td>\n",
       "      <td>107.813044</td>\n",
       "    </tr>\n",
       "    <tr>\n",
       "      <th>57785</th>\n",
       "      <td>8jetG</td>\n",
       "      <td>18.525137</td>\n",
       "      <td>-7.822688</td>\n",
       "      <td>2.999639</td>\n",
       "      <td>80.859783</td>\n",
       "    </tr>\n",
       "  </tbody>\n",
       "</table>\n",
       "</div>"
      ],
      "text/plain": [
       "          id         f0         f1        f2     product\n",
       "24667  tq0Vb -12.995352  -3.002370  0.002173    3.179103\n",
       "77797  j7pNz   9.550264   1.763144  0.999337   26.953261\n",
       "48156  Vg0MX  -3.409155 -10.560843  0.996944   30.132364\n",
       "36697  aMgRb  -0.333750   3.279738  4.007467  107.813044\n",
       "57785  8jetG  18.525137  -7.822688  2.999639   80.859783"
      ]
     },
     "execution_count": 12,
     "metadata": {},
     "output_type": "execute_result"
    }
   ],
   "source": [
    "data_1.sample(5)"
   ]
  },
  {
   "cell_type": "code",
   "execution_count": 13,
   "metadata": {},
   "outputs": [
    {
     "data": {
      "text/html": [
       "<div>\n",
       "<style scoped>\n",
       "    .dataframe tbody tr th:only-of-type {\n",
       "        vertical-align: middle;\n",
       "    }\n",
       "\n",
       "    .dataframe tbody tr th {\n",
       "        vertical-align: top;\n",
       "    }\n",
       "\n",
       "    .dataframe thead th {\n",
       "        text-align: right;\n",
       "    }\n",
       "</style>\n",
       "<table border=\"1\" class=\"dataframe\">\n",
       "  <thead>\n",
       "    <tr style=\"text-align: right;\">\n",
       "      <th></th>\n",
       "      <th>id</th>\n",
       "      <th>f0</th>\n",
       "      <th>f1</th>\n",
       "      <th>f2</th>\n",
       "      <th>product</th>\n",
       "    </tr>\n",
       "  </thead>\n",
       "  <tbody>\n",
       "    <tr>\n",
       "      <th>33435</th>\n",
       "      <td>g5qIq</td>\n",
       "      <td>-0.324912</td>\n",
       "      <td>-1.267790</td>\n",
       "      <td>1.668134</td>\n",
       "      <td>95.631948</td>\n",
       "    </tr>\n",
       "    <tr>\n",
       "      <th>93897</th>\n",
       "      <td>HZ4kh</td>\n",
       "      <td>-0.992761</td>\n",
       "      <td>2.236462</td>\n",
       "      <td>0.258551</td>\n",
       "      <td>54.084934</td>\n",
       "    </tr>\n",
       "    <tr>\n",
       "      <th>58171</th>\n",
       "      <td>dLrqd</td>\n",
       "      <td>0.167278</td>\n",
       "      <td>-4.715581</td>\n",
       "      <td>8.079347</td>\n",
       "      <td>184.590734</td>\n",
       "    </tr>\n",
       "    <tr>\n",
       "      <th>50678</th>\n",
       "      <td>gNrm2</td>\n",
       "      <td>-1.793433</td>\n",
       "      <td>-2.201092</td>\n",
       "      <td>-1.192833</td>\n",
       "      <td>127.652400</td>\n",
       "    </tr>\n",
       "    <tr>\n",
       "      <th>37333</th>\n",
       "      <td>clngc</td>\n",
       "      <td>-2.631332</td>\n",
       "      <td>-0.587502</td>\n",
       "      <td>8.008499</td>\n",
       "      <td>111.810508</td>\n",
       "    </tr>\n",
       "  </tbody>\n",
       "</table>\n",
       "</div>"
      ],
      "text/plain": [
       "          id        f0        f1        f2     product\n",
       "33435  g5qIq -0.324912 -1.267790  1.668134   95.631948\n",
       "93897  HZ4kh -0.992761  2.236462  0.258551   54.084934\n",
       "58171  dLrqd  0.167278 -4.715581  8.079347  184.590734\n",
       "50678  gNrm2 -1.793433 -2.201092 -1.192833  127.652400\n",
       "37333  clngc -2.631332 -0.587502  8.008499  111.810508"
      ]
     },
     "execution_count": 13,
     "metadata": {},
     "output_type": "execute_result"
    }
   ],
   "source": [
    "data_2.sample(5)"
   ]
  },
  {
   "cell_type": "code",
   "execution_count": 14,
   "metadata": {},
   "outputs": [],
   "source": [
    "data_1.drop('id', axis=1, inplace=True)\n",
    "data_2.drop('id', axis=1, inplace=True)"
   ]
  },
  {
   "cell_type": "code",
   "execution_count": 15,
   "metadata": {},
   "outputs": [
    {
     "data": {
      "image/png": "[encoded data removed]",
      "text/plain": [
       "<Figure size 720x720 with 4 Axes>"
      ]
     },
     "metadata": {
      "needs_background": "light"
     },
     "output_type": "display_data"
    }
   ],
   "source": [
    "data_1.hist(figsize=(10,10));"
   ]
  },
  {
   "cell_type": "code",
   "execution_count": 16,
   "metadata": {},
   "outputs": [
    {
     "data": {
      "image/png": "[encoded data removed]",
      "text/plain": [
       "<Figure size 720x720 with 4 Axes>"
      ]
     },
     "metadata": {
      "needs_background": "light"
     },
     "output_type": "display_data"
    }
   ],
   "source": [
    "data_2.hist(figsize=(10,10));"
   ]
  },
  {
   "cell_type": "code",
   "execution_count": 17,
   "metadata": {},
   "outputs": [
    {
     "data": {
      "text/plain": [
       "f0         0\n",
       "f1         0\n",
       "f2         0\n",
       "product    0\n",
       "dtype: int64"
      ]
     },
     "execution_count": 17,
     "metadata": {},
     "output_type": "execute_result"
    }
   ],
   "source": [
    "data_1.isna().sum()"
   ]
  },
  {
   "cell_type": "code",
   "execution_count": 18,
   "metadata": {},
   "outputs": [
    {
     "data": {
      "text/plain": [
       "f0         0\n",
       "f1         0\n",
       "f2         0\n",
       "product    0\n",
       "dtype: int64"
      ]
     },
     "execution_count": 18,
     "metadata": {},
     "output_type": "execute_result"
    }
   ],
   "source": [
    "data_2.isna().sum()"
   ]
  },
  {
   "cell_type": "code",
   "execution_count": 19,
   "metadata": {},
   "outputs": [],
   "source": [
    "features_1 = data_1.drop('product', axis=1)\n",
    "target_1 = data_1['product']\n",
    "\n",
    "features_1_train, features_1_valid, target_1_train, target_1_valid = train_test_split(features_1, target_1, test_size=0.25, \n",
    "                                                                                      random_state=STATE)\n",
    "\n",
    "scaler_1 = StandardScaler()\n",
    "features_1_train = scaler_1.fit_transform(features_1_train)\n",
    "features_1_valid = scaler_1.transform(features_1_valid)\n",
    "\n",
    "features_2 = data_2.drop('product', axis=1)\n",
    "target_2 = data_2['product']\n",
    "\n",
    "features_2_train, features_2_valid, target_2_train, target_2_valid = train_test_split(features_2, target_2, test_size=0.25,\n",
    "                                                                                      random_state=STATE)\n",
    "\n",
    "scaler_2 = StandardScaler()\n",
    "features_2_train = scaler_2.fit_transform(features_2_train)\n",
    "features_2_valid = scaler_2.transform(features_2_valid)"
   ]
  },
  {
   "cell_type": "markdown",
   "metadata": {},
   "source": [
    "## Обучение и проверка модели"
   ]
  },
  {
   "cell_type": "code",
   "execution_count": 20,
   "metadata": {},
   "outputs": [
    {
     "name": "stdout",
     "output_type": "stream",
     "text": [
      "RMSE_0: 37.5794217150813\n",
      "Mean prediction 0: 92.59256778438035\n",
      "R2 score: 0.27994321524487786\n"
     ]
    }
   ],
   "source": [
    "model_0 = LinearRegression(n_jobs=-1)\n",
    "model_0.fit(features_0_train, target_0_train)\n",
    "#model_0.score(features_0_valid, target_0_valid)\n",
    "prediction_0 = model_0.predict(features_0_valid)\n",
    "mse_0 = mean_squared_error(target_0_valid, prediction_0)\n",
    "print('RMSE_0:', math.sqrt(mse_0))\n",
    "print('Mean prediction 0:', prediction_0.mean())\n",
    "print('R2 score:', r2_score(target_0_valid, prediction_0))"
   ]
  },
  {
   "cell_type": "code",
   "execution_count": 21,
   "metadata": {},
   "outputs": [
    {
     "name": "stdout",
     "output_type": "stream",
     "text": [
      "RMSE_1: 0.893099286775617\n",
      "Mean prediction 1: 68.728546895446\n",
      "R2 score: 0.9996233978805127\n"
     ]
    }
   ],
   "source": [
    "model_1 = LinearRegression(n_jobs=-1)\n",
    "model_1.fit(features_1_train, target_1_train)\n",
    "prediction_1 = model_1.predict(features_1_valid)\n",
    "mse_1 = mean_squared_error(target_1_valid, prediction_1)\n",
    "print('RMSE_1:', math.sqrt(mse_1))\n",
    "print('Mean prediction 1:', prediction_1.mean())\n",
    "print('R2 score:', r2_score(target_1_valid, prediction_1))"
   ]
  },
  {
   "cell_type": "code",
   "execution_count": 22,
   "metadata": {},
   "outputs": [
    {
     "name": "stdout",
     "output_type": "stream",
     "text": [
      "RMSE_2: 40.02970873393434\n",
      "Mean prediction 2: 94.96504596800489\n",
      "R2 score: 0.20524758386040443\n"
     ]
    }
   ],
   "source": [
    "model_2 = LinearRegression(n_jobs=-1)\n",
    "model_2.fit(features_2_train, target_2_train)\n",
    "prediction_2 = model_2.predict(features_2_valid)\n",
    "mse_2 = mean_squared_error(target_2_valid, prediction_2)\n",
    "print('RMSE_2:', math.sqrt(mse_2))\n",
    "print('Mean prediction 2:', prediction_2.mean())\n",
    "print('R2 score:', r2_score(target_2_valid, prediction_2))"
   ]
  },
  {
   "cell_type": "markdown",
   "metadata": {},
   "source": [
    "*Проанализировав метрики регрессионных моделей можно сказать, что наиболее точно остатки нефти модель предсказывает в регионе под номером 1, метрика R2 составила 0.999, что является практически идеальным результатом. Однако, такого нельзя сказать о двух других моделях: тут метрики составили 0.279 и 0.205 у регионов под номерами 0 и 2 соответственно.*"
   ]
  },
  {
   "cell_type": "markdown",
   "metadata": {},
   "source": [
    "## Подготовка к расчёту прибыли"
   ]
  },
  {
   "cell_type": "code",
   "execution_count": 23,
   "metadata": {},
   "outputs": [
    {
     "data": {
      "text/plain": [
       "111.11111111111111"
      ]
     },
     "execution_count": 23,
     "metadata": {},
     "output_type": "execute_result"
    }
   ],
   "source": [
    "#Рассчитаем объем нефти в скважине, необходимый для безубыточной разработки скважины\n",
    "EXPENCES = 10000000000\n",
    "OIL_PRICE = 450000\n",
    "VOL = (EXPENCES / 200) / OIL_PRICE\n",
    "VOL"
   ]
  },
  {
   "cell_type": "markdown",
   "metadata": {},
   "source": [
    "*Из расчета объем нефти для безубыточной разработки скважины составляет 111 единиц продукта. Данное значение является меньше, чем средние значения скважин, предсказанные моделью. Можно сделать вывод о том, что случайно выбранные скважины для разработки могут оказаться убыточными*"
   ]
  },
  {
   "cell_type": "code",
   "execution_count": 24,
   "metadata": {},
   "outputs": [],
   "source": [
    "#Функция расчета прибыли\n",
    "def profit(volume, oil_price, expences):\n",
    "    profit = (volume * oil_price) - expences\n",
    "    return profit"
   ]
  },
  {
   "cell_type": "markdown",
   "metadata": {},
   "source": [
    "## Расчёт прибыли и рисков "
   ]
  },
  {
   "cell_type": "markdown",
   "metadata": {},
   "source": [
    "*Применим технику Bootstrap для каждого из регионов и найдем среднюю прибыль, а также риск убытков и 95% доверительный интервал*"
   ]
  },
  {
   "cell_type": "code",
   "execution_count": 25,
   "metadata": {},
   "outputs": [],
   "source": [
    "N = 1000"
   ]
  },
  {
   "cell_type": "code",
   "execution_count": 26,
   "metadata": {},
   "outputs": [
    {
     "name": "stdout",
     "output_type": "stream",
     "text": [
      "Средняя прибыль региона 0: 384666703.2900648\n",
      "Риск убытков: 0.071\n",
      "97.5% доверительный интервал: 901632218.7241417\n",
      "2.5% доверительный интервал -116599223.08991842\n"
     ]
    }
   ],
   "source": [
    "profit_0 = []\n",
    "for i in range(N):\n",
    "    features_0_bs, target_0_bs = resample(features_0_valid, target_0_valid, n_samples=500, replace=True)\n",
    "    features_0_bs = pd.DataFrame(features_0_bs)\n",
    "    target_0_bs.reset_index(drop=True, inplace=True)\n",
    "    predictions_0_bs = model_0.predict(features_0_bs)\n",
    "    predictions_0_bs = pd.Series(predictions_0_bs)\n",
    "    predictions_0_bs.sort_values(ascending=False, inplace=True)\n",
    "    predictions_0_200 = predictions_0_bs[:200]\n",
    "    target_0_200 = []\n",
    "    for index in predictions_0_200.index:    \n",
    "        target_0_200.append(target_0_bs[index])\n",
    "    profit_0.append(profit(sum(target_0_200), OIL_PRICE, EXPENCES))\n",
    "profit_0 = pd.Series(profit_0)\n",
    "upper = profit_0.quantile(0.975)\n",
    "lower = profit_0.quantile(0.025)\n",
    "print('Средняя прибыль региона 0:', profit_0.mean())\n",
    "print('Риск убытков:', (profit_0 < 0).mean())\n",
    "print('97.5% доверительный интервал:', upper)\n",
    "print('2.5% доверительный интервал', lower)"
   ]
  },
  {
   "cell_type": "code",
   "execution_count": 27,
   "metadata": {},
   "outputs": [
    {
     "name": "stdout",
     "output_type": "stream",
     "text": [
      "Средняя прибыль региона 1: 451874544.77416044\n",
      "Риск убытков: 0.015\n",
      "97.5% доверительный интервал: 845865766.0975168\n",
      "2.5% доверительный интервал 52488234.32305336\n"
     ]
    }
   ],
   "source": [
    "profit_1 = []\n",
    "for i in range(N):\n",
    "    features_1_bs, target_1_bs = resample(features_1_valid, target_1_valid, n_samples=500, replace=True)\n",
    "    features_1_bs = pd.DataFrame(features_1_bs)\n",
    "    target_1_bs.reset_index(drop=True, inplace=True)\n",
    "    predictions_1_bs = model_1.predict(features_1_bs)\n",
    "    predictions_1_bs = pd.Series(predictions_1_bs)\n",
    "    predictions_1_bs.sort_values(ascending=False, inplace=True)\n",
    "    predictions_1_200 = predictions_1_bs[:200]\n",
    "    target_1_200 = []\n",
    "    for index in predictions_1_200.index:    \n",
    "        target_1_200.append(target_1_bs[index])\n",
    "    profit_1.append(profit(sum(target_1_200), OIL_PRICE, EXPENCES))\n",
    "profit_1 = pd.Series(profit_1)\n",
    "upper = profit_1.quantile(0.975)\n",
    "lower = profit_1.quantile(0.025)\n",
    "print('Средняя прибыль региона 1:', profit_1.mean())\n",
    "print('Риск убытков:', (profit_1 < 0).mean())\n",
    "print('97.5% доверительный интервал:', upper)\n",
    "print('2.5% доверительный интервал', lower)"
   ]
  },
  {
   "cell_type": "code",
   "execution_count": 28,
   "metadata": {},
   "outputs": [
    {
     "name": "stdout",
     "output_type": "stream",
     "text": [
      "Средняя прибыль региона 2: 392853235.10971093\n",
      "Риск убытков: 0.073\n",
      "97.5% доверительный интервал: 880384673.4322826\n",
      "2.5% доверительный интервал -106090538.4113843\n"
     ]
    }
   ],
   "source": [
    "profit_2 = []\n",
    "for i in range(N):\n",
    "    features_2_bs, target_2_bs = resample(features_2_valid, target_2_valid, n_samples=500, replace=True)\n",
    "    features_2_bs = pd.DataFrame(features_2_bs)\n",
    "    target_2_bs.reset_index(drop=True, inplace=True)\n",
    "    predictions_2_bs = model_2.predict(features_2_bs)\n",
    "    predictions_2_bs = pd.Series(predictions_2_bs)\n",
    "    predictions_2_bs.sort_values(ascending=False, inplace=True)\n",
    "    predictions_2_200 = predictions_2_bs[:200]\n",
    "    target_2_200 = []\n",
    "    for index in predictions_2_200.index:    \n",
    "        target_2_200.append(target_2_bs[index])\n",
    "    profit_2.append(profit(sum(target_2_200), OIL_PRICE, EXPENCES))\n",
    "profit_2 = pd.Series(profit_2)\n",
    "upper = profit_2.quantile(0.975)\n",
    "lower = profit_2.quantile(0.025)\n",
    "print('Средняя прибыль региона 2:', profit_2.mean())\n",
    "print('Риск убытков:', (profit_2 < 0).mean())\n",
    "print('97.5% доверительный интервал:', upper)\n",
    "print('2.5% доверительный интервал', lower)"
   ]
  },
  {
   "cell_type": "markdown",
   "metadata": {},
   "source": [
    "Таким образом после выполнения Bootstrap к разработке рекомендован регион 1, так как он наиболее выгоден по возможной прибыли и доверительным интервалам (только у этого региона нижний и верхний доверительные интервалы положительные), риск убытка так же минимален и составил 1.5% против 7.1% и 7.3%.\n",
    "</br>В данной работе была разработана модель линейной регрессии для оценивания запасов скважин по некоторым признакам, далее на основе предсказанных данных был произведен расчет прибыли и рисков разработки скважин."
   ]
  }
 ],
 "metadata": {
  "kernelspec": {
   "display_name": "Python 3 (ipykernel)",
   "language": "python",
   "name": "python3"
  },
  "language_info": {
   "codemirror_mode": {
    "name": "ipython",
    "version": 3
   },
   "file_extension": ".py",
   "mimetype": "text/x-python",
   "name": "python",
   "nbconvert_exporter": "python",
   "pygments_lexer": "ipython3",
   "version": "3.9.12"
  },
  "toc": {
   "base_numbering": 1,
   "nav_menu": {},
   "number_sections": true,
   "sideBar": true,
   "skip_h1_title": true,
   "title_cell": "Table of Contents",
   "title_sidebar": "Contents",
   "toc_cell": false,
   "toc_position": {},
   "toc_section_display": true,
   "toc_window_display": false
  }
 },
 "nbformat": 4,
 "nbformat_minor": 2
}
