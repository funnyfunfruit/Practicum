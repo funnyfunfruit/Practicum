{
 "cells": [
  {
   "cell_type": "markdown",
   "metadata": {
    "toc": true
   },
   "source": [
    "<h1>Содержание<span class=\"tocSkip\"></span></h1>\n",
    "<div class=\"toc\"><ul class=\"toc-item\"><li><span><a href=\"#Подготовка-данных\" data-toc-modified-id=\"Подготовка-данных-1\"><span class=\"toc-item-num\">1&nbsp;&nbsp;</span>Подготовка данных</a></span></li><li><span><a href=\"#Исследование-задачи\" data-toc-modified-id=\"Исследование-задачи-2\"><span class=\"toc-item-num\">2&nbsp;&nbsp;</span>Исследование задачи</a></span></li><li><span><a href=\"#Борьба-с-дисбалансом\" data-toc-modified-id=\"Борьба-с-дисбалансом-3\"><span class=\"toc-item-num\">3&nbsp;&nbsp;</span>Борьба с дисбалансом</a></span></li><li><span><a href=\"#Тестирование-модели\" data-toc-modified-id=\"Тестирование-модели-4\"><span class=\"toc-item-num\">4&nbsp;&nbsp;</span>Тестирование модели</a></span></li><li><span><a href=\"#Чек-лист-готовности-проекта\" data-toc-modified-id=\"Чек-лист-готовности-проекта-5\"><span class=\"toc-item-num\">5&nbsp;&nbsp;</span>Чек-лист готовности проекта</a></span></li></ul></div>"
   ]
  },
  {
   "cell_type": "markdown",
   "metadata": {},
   "source": [
    "# Отток клиентов"
   ]
  },
  {
   "cell_type": "markdown",
   "metadata": {},
   "source": [
    "Из «Бета-Банка» стали уходить клиенты. Каждый месяц. Немного, но заметно. Банковские маркетологи посчитали: сохранять текущих клиентов дешевле, чем привлекать новых.\n",
    "\n",
    "Нужно спрогнозировать, уйдёт клиент из банка в ближайшее время или нет. Вам предоставлены исторические данные о поведении клиентов и расторжении договоров с банком. \n",
    "\n",
    "Постройте модель с предельно большим значением *F1*-меры. Чтобы сдать проект успешно, нужно довести метрику до 0.59. Проверьте *F1*-меру на тестовой выборке самостоятельно.\n",
    "\n",
    "Дополнительно измеряйте *AUC-ROC*, сравнивайте её значение с *F1*-мерой.\n",
    "\n",
    "Источник данных: [https://www.kaggle.com/barelydedicated/bank-customer-churn-modeling](https://www.kaggle.com/barelydedicated/bank-customer-churn-modeling)"
   ]
  },
  {
   "cell_type": "markdown",
   "metadata": {},
   "source": [
    "Импортируем необходимые библиотеки"
   ]
  },
  {
   "cell_type": "code",
   "execution_count": 25,
   "metadata": {},
   "outputs": [],
   "source": [
    "import pandas as pd\n",
    "import seaborn as sn\n",
    "import matplotlib.pyplot as plt\n",
    "from sklearn.preprocessing import StandardScaler\n",
    "from sklearn.model_selection import train_test_split\n",
    "from sklearn.linear_model import LogisticRegression\n",
    "from sklearn.metrics import f1_score, classification_report\n",
    "from sklearn.model_selection import GridSearchCV\n",
    "from sklearn.ensemble import RandomForestClassifier\n",
    "from sklearn.utils import shuffle\n",
    "from sklearn.preprocessing import OneHotEncoder\n",
    "from sklearn.metrics import roc_curve\n",
    "from imblearn.under_sampling import RandomUnderSampler\n",
    "from imblearn.over_sampling import SMOTE"
   ]
  },
  {
   "cell_type": "markdown",
   "metadata": {},
   "source": [
    "## Подготовка данных"
   ]
  },
  {
   "cell_type": "markdown",
   "metadata": {},
   "source": [
    "Прочитаем ДФ и его основные параметры"
   ]
  },
  {
   "cell_type": "code",
   "execution_count": 2,
   "metadata": {},
   "outputs": [],
   "source": [
    "df = pd.read_csv('C:/Users/FunnyFunFruit/Desktop/Project/Churn.csv')"
   ]
  },
  {
   "cell_type": "code",
   "execution_count": 3,
   "metadata": {},
   "outputs": [
    {
     "name": "stdout",
     "output_type": "stream",
     "text": [
      "<class 'pandas.core.frame.DataFrame'>\n",
      "RangeIndex: 10000 entries, 0 to 9999\n",
      "Data columns (total 14 columns):\n",
      " #   Column           Non-Null Count  Dtype  \n",
      "---  ------           --------------  -----  \n",
      " 0   RowNumber        10000 non-null  int64  \n",
      " 1   CustomerId       10000 non-null  int64  \n",
      " 2   Surname          10000 non-null  object \n",
      " 3   CreditScore      10000 non-null  int64  \n",
      " 4   Geography        10000 non-null  object \n",
      " 5   Gender           10000 non-null  object \n",
      " 6   Age              10000 non-null  int64  \n",
      " 7   Tenure           9091 non-null   float64\n",
      " 8   Balance          10000 non-null  float64\n",
      " 9   NumOfProducts    10000 non-null  int64  \n",
      " 10  HasCrCard        10000 non-null  int64  \n",
      " 11  IsActiveMember   10000 non-null  int64  \n",
      " 12  EstimatedSalary  10000 non-null  float64\n",
      " 13  Exited           10000 non-null  int64  \n",
      "dtypes: float64(3), int64(8), object(3)\n",
      "memory usage: 1.1+ MB\n"
     ]
    }
   ],
   "source": [
    "df.info()"
   ]
  },
  {
   "cell_type": "code",
   "execution_count": 4,
   "metadata": {},
   "outputs": [
    {
     "data": {
      "text/plain": [
       "(10000, 14)"
      ]
     },
     "execution_count": 4,
     "metadata": {},
     "output_type": "execute_result"
    }
   ],
   "source": [
    "df.shape"
   ]
  },
  {
   "cell_type": "code",
   "execution_count": 5,
   "metadata": {},
   "outputs": [
    {
     "data": {
      "text/html": [
       "<div>\n",
       "<style scoped>\n",
       "    .dataframe tbody tr th:only-of-type {\n",
       "        vertical-align: middle;\n",
       "    }\n",
       "\n",
       "    .dataframe tbody tr th {\n",
       "        vertical-align: top;\n",
       "    }\n",
       "\n",
       "    .dataframe thead th {\n",
       "        text-align: right;\n",
       "    }\n",
       "</style>\n",
       "<table border=\"1\" class=\"dataframe\">\n",
       "  <thead>\n",
       "    <tr style=\"text-align: right;\">\n",
       "      <th></th>\n",
       "      <th>RowNumber</th>\n",
       "      <th>CustomerId</th>\n",
       "      <th>Surname</th>\n",
       "      <th>CreditScore</th>\n",
       "      <th>Geography</th>\n",
       "      <th>Gender</th>\n",
       "      <th>Age</th>\n",
       "      <th>Tenure</th>\n",
       "      <th>Balance</th>\n",
       "      <th>NumOfProducts</th>\n",
       "      <th>HasCrCard</th>\n",
       "      <th>IsActiveMember</th>\n",
       "      <th>EstimatedSalary</th>\n",
       "      <th>Exited</th>\n",
       "    </tr>\n",
       "  </thead>\n",
       "  <tbody>\n",
       "    <tr>\n",
       "      <th>4738</th>\n",
       "      <td>4739</td>\n",
       "      <td>15644361</td>\n",
       "      <td>Hooper</td>\n",
       "      <td>702</td>\n",
       "      <td>France</td>\n",
       "      <td>Female</td>\n",
       "      <td>40</td>\n",
       "      <td>NaN</td>\n",
       "      <td>103549.24</td>\n",
       "      <td>1</td>\n",
       "      <td>0</td>\n",
       "      <td>0</td>\n",
       "      <td>9712.52</td>\n",
       "      <td>1</td>\n",
       "    </tr>\n",
       "    <tr>\n",
       "      <th>9993</th>\n",
       "      <td>9994</td>\n",
       "      <td>15569266</td>\n",
       "      <td>Rahman</td>\n",
       "      <td>644</td>\n",
       "      <td>France</td>\n",
       "      <td>Male</td>\n",
       "      <td>28</td>\n",
       "      <td>7.0</td>\n",
       "      <td>155060.41</td>\n",
       "      <td>1</td>\n",
       "      <td>1</td>\n",
       "      <td>0</td>\n",
       "      <td>29179.52</td>\n",
       "      <td>0</td>\n",
       "    </tr>\n",
       "    <tr>\n",
       "      <th>5573</th>\n",
       "      <td>5574</td>\n",
       "      <td>15628893</td>\n",
       "      <td>Power</td>\n",
       "      <td>681</td>\n",
       "      <td>France</td>\n",
       "      <td>Male</td>\n",
       "      <td>29</td>\n",
       "      <td>8.0</td>\n",
       "      <td>0.00</td>\n",
       "      <td>1</td>\n",
       "      <td>1</td>\n",
       "      <td>0</td>\n",
       "      <td>66367.33</td>\n",
       "      <td>0</td>\n",
       "    </tr>\n",
       "    <tr>\n",
       "      <th>5025</th>\n",
       "      <td>5026</td>\n",
       "      <td>15780432</td>\n",
       "      <td>Shen</td>\n",
       "      <td>728</td>\n",
       "      <td>France</td>\n",
       "      <td>Male</td>\n",
       "      <td>37</td>\n",
       "      <td>3.0</td>\n",
       "      <td>122689.51</td>\n",
       "      <td>2</td>\n",
       "      <td>0</td>\n",
       "      <td>0</td>\n",
       "      <td>106977.53</td>\n",
       "      <td>1</td>\n",
       "    </tr>\n",
       "    <tr>\n",
       "      <th>7458</th>\n",
       "      <td>7459</td>\n",
       "      <td>15800049</td>\n",
       "      <td>Grigoryeva</td>\n",
       "      <td>728</td>\n",
       "      <td>Spain</td>\n",
       "      <td>Female</td>\n",
       "      <td>43</td>\n",
       "      <td>NaN</td>\n",
       "      <td>0.00</td>\n",
       "      <td>1</td>\n",
       "      <td>1</td>\n",
       "      <td>1</td>\n",
       "      <td>120088.17</td>\n",
       "      <td>0</td>\n",
       "    </tr>\n",
       "  </tbody>\n",
       "</table>\n",
       "</div>"
      ],
      "text/plain": [
       "      RowNumber  CustomerId     Surname  CreditScore Geography  Gender  Age  \\\n",
       "4738       4739    15644361      Hooper          702    France  Female   40   \n",
       "9993       9994    15569266      Rahman          644    France    Male   28   \n",
       "5573       5574    15628893       Power          681    France    Male   29   \n",
       "5025       5026    15780432        Shen          728    France    Male   37   \n",
       "7458       7459    15800049  Grigoryeva          728     Spain  Female   43   \n",
       "\n",
       "      Tenure    Balance  NumOfProducts  HasCrCard  IsActiveMember  \\\n",
       "4738     NaN  103549.24              1          0               0   \n",
       "9993     7.0  155060.41              1          1               0   \n",
       "5573     8.0       0.00              1          1               0   \n",
       "5025     3.0  122689.51              2          0               0   \n",
       "7458     NaN       0.00              1          1               1   \n",
       "\n",
       "      EstimatedSalary  Exited  \n",
       "4738          9712.52       1  \n",
       "9993         29179.52       0  \n",
       "5573         66367.33       0  \n",
       "5025        106977.53       1  \n",
       "7458        120088.17       0  "
      ]
     },
     "execution_count": 5,
     "metadata": {},
     "output_type": "execute_result"
    }
   ],
   "source": [
    "df.sample(5)"
   ]
  },
  {
   "cell_type": "markdown",
   "metadata": {},
   "source": [
    "Удалим ненужные столбцы, которые могут запутать модель"
   ]
  },
  {
   "cell_type": "code",
   "execution_count": 6,
   "metadata": {},
   "outputs": [],
   "source": [
    "df.drop(['RowNumber', 'CustomerId', 'Surname'], axis=1, inplace=True)"
   ]
  },
  {
   "cell_type": "markdown",
   "metadata": {},
   "source": [
    "Посмотрим на типы данных в столбцах"
   ]
  },
  {
   "cell_type": "code",
   "execution_count": 7,
   "metadata": {},
   "outputs": [
    {
     "data": {
      "text/plain": [
       "CreditScore          int64\n",
       "Geography           object\n",
       "Gender              object\n",
       "Age                  int64\n",
       "Tenure             float64\n",
       "Balance            float64\n",
       "NumOfProducts        int64\n",
       "HasCrCard            int64\n",
       "IsActiveMember       int64\n",
       "EstimatedSalary    float64\n",
       "Exited               int64\n",
       "dtype: object"
      ]
     },
     "execution_count": 7,
     "metadata": {},
     "output_type": "execute_result"
    }
   ],
   "source": [
    "df.dtypes"
   ]
  },
  {
   "cell_type": "markdown",
   "metadata": {},
   "source": [
    "Посмотрим на пропуски в столбцах"
   ]
  },
  {
   "cell_type": "code",
   "execution_count": 8,
   "metadata": {},
   "outputs": [
    {
     "data": {
      "text/plain": [
       "CreditScore          0\n",
       "Geography            0\n",
       "Gender               0\n",
       "Age                  0\n",
       "Tenure             909\n",
       "Balance              0\n",
       "NumOfProducts        0\n",
       "HasCrCard            0\n",
       "IsActiveMember       0\n",
       "EstimatedSalary      0\n",
       "Exited               0\n",
       "dtype: int64"
      ]
     },
     "execution_count": 8,
     "metadata": {},
     "output_type": "execute_result"
    }
   ],
   "source": [
    "df.isna().sum()"
   ]
  },
  {
   "cell_type": "markdown",
   "metadata": {},
   "source": [
    "Так как доля пропусков от объема ДФ не очень большая, то удалим пропуски"
   ]
  },
  {
   "cell_type": "code",
   "execution_count": 9,
   "metadata": {},
   "outputs": [],
   "source": [
    "df.dropna(axis=0, inplace=True)\n",
    "df.reset_index(inplace=True, drop=True)"
   ]
  },
  {
   "cell_type": "markdown",
   "metadata": {},
   "source": [
    "Используем One-Hot Encoder для замены категориальных столбцов на двоичные категории"
   ]
  },
  {
   "cell_type": "code",
   "execution_count": null,
   "metadata": {},
   "outputs": [],
   "source": [
    "#df = pd.get_dummies(data=df, columns=['Geography', 'Gender'])\n",
    "#ohe = OneHotEncoder()\n",
    "#df_enc = pd.DataFrame(ohe.fit_transform(df[['Geography', 'Gender']]).toarray())\n",
    "#df = df.join(df_enc)"
   ]
  },
  {
   "cell_type": "markdown",
   "metadata": {},
   "source": [
    "Удалим замененные столбцы и переименуем оставшиеся"
   ]
  },
  {
   "cell_type": "code",
   "execution_count": null,
   "metadata": {},
   "outputs": [],
   "source": [
    "#df.drop(['Geography', 'Gender'], axis=1, inplace=True)\n",
    "#df.columns = ['CreditScore', 'Age', 'Tenure', 'Balance', 'NumOfProducts', 'HasCrCard', 'IsActiveMember', 'EstimatedSalary',\n",
    "#              'Exited', 'France', 'Germany', 'Spain', 'Female', 'Male']"
   ]
  },
  {
   "cell_type": "markdown",
   "metadata": {},
   "source": [
    "## Исследование задачи"
   ]
  },
  {
   "cell_type": "markdown",
   "metadata": {},
   "source": [
    "Построим гистограммы для всех столбцов"
   ]
  },
  {
   "cell_type": "code",
   "execution_count": 10,
   "metadata": {},
   "outputs": [
    {
     "data": {
      "image/png": "[encoded data removed]",
      "text/plain": [
       "<Figure size 720x720 with 9 Axes>"
      ]
     },
     "metadata": {
      "needs_background": "light"
     },
     "output_type": "display_data"
    }
   ],
   "source": [
    "df.hist(figsize=(10,10));"
   ]
  },
  {
   "cell_type": "markdown",
   "metadata": {},
   "source": [
    "Построим диаграммы зависимостей количества ушедших людей от разных параметров"
   ]
  },
  {
   "cell_type": "code",
   "execution_count": 11,
   "metadata": {},
   "outputs": [
    {
     "data": {
      "image/png": "[encoded data removed]",
      "text/plain": [
       "<Figure size 720x720 with 1 Axes>"
      ]
     },
     "metadata": {
      "needs_background": "light"
     },
     "output_type": "display_data"
    }
   ],
   "source": [
    "cscore_exited_1 = df[df['Exited'] == 1]['CreditScore']\n",
    "cscore_exited_0 = df[df['Exited'] == 0]['CreditScore']\n",
    "plt.figure(figsize=(10,10))\n",
    "plt.hist([cscore_exited_1, cscore_exited_0], color=['blue', 'green'], label=['Ушли', 'Остались'])\n",
    "plt.title('Зависимость количества ушедших людей от кредитного рейтинга');\n",
    "plt.xlabel('Кредитный рейтинг');\n",
    "plt.ylabel('Количество людей');\n",
    "plt.legend();\n",
    "plt.grid()"
   ]
  },
  {
   "cell_type": "code",
   "execution_count": 12,
   "metadata": {},
   "outputs": [
    {
     "data": {
      "image/png": "[encoded data removed]",
      "text/plain": [
       "<Figure size 720x720 with 1 Axes>"
      ]
     },
     "metadata": {
      "needs_background": "light"
     },
     "output_type": "display_data"
    }
   ],
   "source": [
    "tenure_exited_1 = df[df['Exited'] == 1]['Tenure']\n",
    "tenure_exited_0 = df[df['Exited'] == 0]['Tenure']\n",
    "plt.figure(figsize=(10,10))\n",
    "plt.hist([tenure_exited_1, tenure_exited_0], color=['blue', 'green'], label=['Exited', 'Stayed']);\n",
    "plt.legend();\n",
    "plt.xlabel('Стаж');\n",
    "plt.ylabel('Количество людей');\n",
    "plt.title('Зависимость количества ушедших людей от стажа с банком');\n",
    "plt.grid()"
   ]
  },
  {
   "cell_type": "code",
   "execution_count": 13,
   "metadata": {},
   "outputs": [
    {
     "data": {
      "image/png": "[encoded data removed]",
      "text/plain": [
       "<Figure size 720x720 with 1 Axes>"
      ]
     },
     "metadata": {
      "needs_background": "light"
     },
     "output_type": "display_data"
    }
   ],
   "source": [
    "age_exited_0 = df[df['Exited'] == 0]['Age']\n",
    "age_exited_1 = df[df['Exited'] == 1]['Age']\n",
    "plt.figure(figsize=(10,10))\n",
    "plt.hist([age_exited_0, age_exited_1], color=['green', 'blue'], label=['Ушли', 'Остались']);\n",
    "plt.title('Зависимость ухода людей от возраста');\n",
    "plt.xlabel('Возраст');\n",
    "plt.ylabel('Количество');\n",
    "plt.legend()\n",
    "plt.grid()"
   ]
  },
  {
   "cell_type": "code",
   "execution_count": 14,
   "metadata": {},
   "outputs": [
    {
     "data": {
      "image/png": "[encoded data removed]",
      "text/plain": [
       "<Figure size 720x720 with 1 Axes>"
      ]
     },
     "metadata": {
      "needs_background": "light"
     },
     "output_type": "display_data"
    }
   ],
   "source": [
    "prod_exited_1 = df[df['Exited'] == 1]['NumOfProducts']\n",
    "prod_exited_0 = df[df['Exited'] == 0]['NumOfProducts']\n",
    "plt.figure(figsize=(10,10));\n",
    "plt.hist([prod_exited_1, prod_exited_0], color=['green', 'blue'], label=['Ушли', 'Остались']);\n",
    "plt.title('Зависимость ухода людей от количества банковских продуктов');\n",
    "plt.xlabel('Количество продуктов');\n",
    "plt.ylabel('Количество людей');\n",
    "plt.grid()\n",
    "plt.legend();"
   ]
  },
  {
   "cell_type": "code",
   "execution_count": 15,
   "metadata": {},
   "outputs": [
    {
     "data": {
      "text/plain": [
       "Index(['CreditScore', 'Geography', 'Gender', 'Age', 'Tenure', 'Balance',\n",
       "       'NumOfProducts', 'HasCrCard', 'IsActiveMember', 'EstimatedSalary',\n",
       "       'Exited'],\n",
       "      dtype='object')"
      ]
     },
     "execution_count": 15,
     "metadata": {},
     "output_type": "execute_result"
    }
   ],
   "source": [
    "df.columns"
   ]
  },
  {
   "cell_type": "markdown",
   "metadata": {},
   "source": [
    "Разделим данные на тренировочную, валидационную и тестовую выборки"
   ]
  },
  {
   "cell_type": "code",
   "execution_count": 16,
   "metadata": {},
   "outputs": [
    {
     "name": "stdout",
     "output_type": "stream",
     "text": [
      "(5454, 10)\n",
      "(1819, 10)\n",
      "(5454,)\n",
      "(1819,)\n"
     ]
    }
   ],
   "source": [
    "features = df.drop('Exited', axis=1)\n",
    "target = df['Exited']\n",
    "\n",
    "features_train, features_test, target_train, target_test = train_test_split(features, target, test_size=0.4, random_state=1)\n",
    "features_valid, features_test, target_valid, target_test = train_test_split(features_test, target_test, test_size=0.5, \n",
    "                                                                            random_state=1)\n",
    "print(features_train.shape)\n",
    "print(features_test.shape)\n",
    "print(target_train.shape)\n",
    "print(target_test.shape)"
   ]
  },
  {
   "cell_type": "markdown",
   "metadata": {},
   "source": [
    "Обучаем OHE и StandartScaler на тестовой выборке"
   ]
  },
  {
   "cell_type": "code",
   "execution_count": 17,
   "metadata": {
    "scrolled": true
   },
   "outputs": [
    {
     "data": {
      "text/html": [
       "<div>\n",
       "<style scoped>\n",
       "    .dataframe tbody tr th:only-of-type {\n",
       "        vertical-align: middle;\n",
       "    }\n",
       "\n",
       "    .dataframe tbody tr th {\n",
       "        vertical-align: top;\n",
       "    }\n",
       "\n",
       "    .dataframe thead th {\n",
       "        text-align: right;\n",
       "    }\n",
       "</style>\n",
       "<table border=\"1\" class=\"dataframe\">\n",
       "  <thead>\n",
       "    <tr style=\"text-align: right;\">\n",
       "      <th></th>\n",
       "      <th>CreditScore</th>\n",
       "      <th>Age</th>\n",
       "      <th>Tenure</th>\n",
       "      <th>Balance</th>\n",
       "      <th>NumOfProducts</th>\n",
       "      <th>HasCrCard</th>\n",
       "      <th>IsActiveMember</th>\n",
       "      <th>EstimatedSalary</th>\n",
       "      <th>Geography_Germany</th>\n",
       "      <th>Geography_Spain</th>\n",
       "      <th>Gender_Male</th>\n",
       "    </tr>\n",
       "  </thead>\n",
       "  <tbody>\n",
       "    <tr>\n",
       "      <th>5389</th>\n",
       "      <td>1.198808</td>\n",
       "      <td>-0.850673</td>\n",
       "      <td>-0.340464</td>\n",
       "      <td>0.817795</td>\n",
       "      <td>0.811585</td>\n",
       "      <td>0.642614</td>\n",
       "      <td>0.976800</td>\n",
       "      <td>-1.257331</td>\n",
       "      <td>1.691924</td>\n",
       "      <td>-0.565634</td>\n",
       "      <td>0.907789</td>\n",
       "    </tr>\n",
       "    <tr>\n",
       "      <th>1622</th>\n",
       "      <td>2.072867</td>\n",
       "      <td>0.003935</td>\n",
       "      <td>1.741641</td>\n",
       "      <td>-1.238754</td>\n",
       "      <td>0.811585</td>\n",
       "      <td>0.642614</td>\n",
       "      <td>0.976800</td>\n",
       "      <td>0.737029</td>\n",
       "      <td>-0.591043</td>\n",
       "      <td>1.767927</td>\n",
       "      <td>-1.101578</td>\n",
       "    </tr>\n",
       "    <tr>\n",
       "      <th>4541</th>\n",
       "      <td>1.115564</td>\n",
       "      <td>-0.375891</td>\n",
       "      <td>0.006554</td>\n",
       "      <td>-1.238754</td>\n",
       "      <td>0.811585</td>\n",
       "      <td>-1.556143</td>\n",
       "      <td>-1.023751</td>\n",
       "      <td>-0.008375</td>\n",
       "      <td>-0.591043</td>\n",
       "      <td>1.767927</td>\n",
       "      <td>-1.101578</td>\n",
       "    </tr>\n",
       "    <tr>\n",
       "      <th>4063</th>\n",
       "      <td>0.522452</td>\n",
       "      <td>0.288804</td>\n",
       "      <td>0.353571</td>\n",
       "      <td>0.148002</td>\n",
       "      <td>-0.904733</td>\n",
       "      <td>0.642614</td>\n",
       "      <td>-1.023751</td>\n",
       "      <td>0.917198</td>\n",
       "      <td>-0.591043</td>\n",
       "      <td>-0.565634</td>\n",
       "      <td>-1.101578</td>\n",
       "    </tr>\n",
       "    <tr>\n",
       "      <th>6031</th>\n",
       "      <td>0.928265</td>\n",
       "      <td>-0.280934</td>\n",
       "      <td>-0.340464</td>\n",
       "      <td>1.535500</td>\n",
       "      <td>-0.904733</td>\n",
       "      <td>0.642614</td>\n",
       "      <td>0.976800</td>\n",
       "      <td>-0.250968</td>\n",
       "      <td>-0.591043</td>\n",
       "      <td>-0.565634</td>\n",
       "      <td>0.907789</td>\n",
       "    </tr>\n",
       "  </tbody>\n",
       "</table>\n",
       "</div>"
      ],
      "text/plain": [
       "      CreditScore       Age    Tenure   Balance  NumOfProducts  HasCrCard  \\\n",
       "5389     1.198808 -0.850673 -0.340464  0.817795       0.811585   0.642614   \n",
       "1622     2.072867  0.003935  1.741641 -1.238754       0.811585   0.642614   \n",
       "4541     1.115564 -0.375891  0.006554 -1.238754       0.811585  -1.556143   \n",
       "4063     0.522452  0.288804  0.353571  0.148002      -0.904733   0.642614   \n",
       "6031     0.928265 -0.280934 -0.340464  1.535500      -0.904733   0.642614   \n",
       "\n",
       "      IsActiveMember  EstimatedSalary  Geography_Germany  Geography_Spain  \\\n",
       "5389        0.976800        -1.257331           1.691924        -0.565634   \n",
       "1622        0.976800         0.737029          -0.591043         1.767927   \n",
       "4541       -1.023751        -0.008375          -0.591043         1.767927   \n",
       "4063       -1.023751         0.917198          -0.591043        -0.565634   \n",
       "6031        0.976800        -0.250968          -0.591043        -0.565634   \n",
       "\n",
       "      Gender_Male  \n",
       "5389     0.907789  \n",
       "1622    -1.101578  \n",
       "4541    -1.101578  \n",
       "4063    -1.101578  \n",
       "6031     0.907789  "
      ]
     },
     "execution_count": 17,
     "metadata": {},
     "output_type": "execute_result"
    }
   ],
   "source": [
    "ohe = OneHotEncoder(handle_unknown='ignore', drop='first', sparse=False)\n",
    "ohe_features = features_train.select_dtypes(include='object').columns.to_list()\n",
    "ohe.fit(features_train[ohe_features])\n",
    "features_train[ohe.get_feature_names_out()] = ohe.transform(features_train[ohe_features])\n",
    "features_train = features_train.drop(ohe_features, axis=1)\n",
    "\n",
    "scaler = StandardScaler()\n",
    "num_features = features_train.select_dtypes(exclude='object').columns.to_list()\n",
    "features_train[num_features] = scaler.fit_transform(features_train[num_features])\n",
    "\n",
    "features_train.sample(5)"
   ]
  },
  {
   "cell_type": "markdown",
   "metadata": {},
   "source": [
    "Применим масштабирование и OHE к остальным выборкам"
   ]
  },
  {
   "cell_type": "code",
   "execution_count": 18,
   "metadata": {},
   "outputs": [],
   "source": [
    "features_valid[ohe.get_feature_names_out()] = ohe.transform(features_valid[ohe_features])\n",
    "features_valid = features_valid.drop(ohe_features, axis=1)\n",
    "features_valid[num_features] = scaler.transform(features_valid[num_features])"
   ]
  },
  {
   "cell_type": "code",
   "execution_count": 34,
   "metadata": {},
   "outputs": [],
   "source": [
    "features_test[ohe.get_feature_names_out()] = ohe.transform(features_test[ohe_features])\n",
    "features_test = features_test.drop(ohe_features, axis=1)\n",
    "features_test[num_features] = scaler.transform(features_test[num_features])"
   ]
  },
  {
   "cell_type": "markdown",
   "metadata": {},
   "source": [
    "Обучим модель логистической регрессии с разлтичным решателем и посмотрим на F1 метрику"
   ]
  },
  {
   "cell_type": "code",
   "execution_count": 19,
   "metadata": {},
   "outputs": [
    {
     "name": "stdout",
     "output_type": "stream",
     "text": [
      "0.2594142259414226\n"
     ]
    }
   ],
   "source": [
    "model = LogisticRegression(random_state=1, solver='lbfgs')\n",
    "model.fit(features_train, target_train)\n",
    "predictions = model.predict(features_valid)\n",
    "print(f1_score(target_valid, predictions))"
   ]
  },
  {
   "cell_type": "code",
   "execution_count": 20,
   "metadata": {},
   "outputs": [
    {
     "name": "stdout",
     "output_type": "stream",
     "text": [
      "0.2594142259414226\n"
     ]
    }
   ],
   "source": [
    "model = LogisticRegression(random_state=1, solver='newton-cg')\n",
    "model.fit(features_train, target_train)\n",
    "predictions = model.predict(features_valid)\n",
    "print(f1_score(target_valid, predictions))"
   ]
  },
  {
   "cell_type": "markdown",
   "metadata": {},
   "source": [
    "Обучим модель случайного леса и подберем гиперпараметры с помощью GridSearchCV"
   ]
  },
  {
   "cell_type": "code",
   "execution_count": 21,
   "metadata": {},
   "outputs": [
    {
     "name": "stdout",
     "output_type": "stream",
     "text": [
      "n_est: 20 depth 9 f1: 0.5303867403314917\n"
     ]
    }
   ],
   "source": [
    "f1_score_best = 0\n",
    "for est in range(10, 51, 10):\n",
    "    for depth in range(1, 10):\n",
    "        model = RandomForestClassifier(random_state=1, n_estimators=est, max_depth=depth)\n",
    "        model.fit(features_train, target_train)\n",
    "        predictions = model.predict(features_valid)\n",
    "        if f1_score(target_valid, predictions) > f1_score_best:\n",
    "            best_model = model\n",
    "            best_n_est = est\n",
    "            best_depth = depth\n",
    "            f1_score_best = f1_score(target_valid, predictions)\n",
    "print('n_est:', best_n_est, 'depth', best_depth, 'f1:', f1_score_best)"
   ]
  },
  {
   "cell_type": "markdown",
   "metadata": {},
   "source": [
    "Лучшая F1 метрика на данном этапе составляет 0,53 у модели случайного леса, гиперпараметры были подобраны с помощью двойного цикла перерборки. Для дальнейшего улучшения метрики будем использовать методы upsampling и downsampling, а также гиперпараметр class_weight. Они заключаются в намеренном увеличении или уменьшении выборки соответсвенно."
   ]
  },
  {
   "cell_type": "markdown",
   "metadata": {},
   "source": [
    "## Борьба с дисбалансом"
   ]
  },
  {
   "cell_type": "markdown",
   "metadata": {},
   "source": [
    "Используем метод Downsampling"
   ]
  },
  {
   "cell_type": "code",
   "execution_count": 23,
   "metadata": {},
   "outputs": [],
   "source": [
    "undersample = RandomUnderSampler(sampling_strategy='majority')\n",
    "features_train_under, target_train_under = undersample.fit_resample(features_train, target_train)"
   ]
  },
  {
   "cell_type": "code",
   "execution_count": 24,
   "metadata": {},
   "outputs": [
    {
     "name": "stdout",
     "output_type": "stream",
     "text": [
      "n_est: 10 depth 5 f1: 0.5682074408117249\n"
     ]
    }
   ],
   "source": [
    "f1_score_best = 0\n",
    "for est in range(10, 51, 10):\n",
    "    for depth in range(1, 10):\n",
    "        model = RandomForestClassifier(random_state=1, n_estimators=est, max_depth=depth)\n",
    "        model.fit(features_train_under, target_train_under)\n",
    "        predictions = model.predict(features_valid)\n",
    "        if f1_score(target_valid, predictions) > f1_score_best:\n",
    "            best_model = model\n",
    "            best_n_est = est\n",
    "            best_depth = depth\n",
    "            f1_score_best = f1_score(target_valid, predictions)\n",
    "print('n_est:', best_n_est, 'depth', best_depth, 'f1:', f1_score_best)"
   ]
  },
  {
   "cell_type": "markdown",
   "metadata": {},
   "source": [
    "После применения метода Undersampling f1 метрика выросла до 0.568"
   ]
  },
  {
   "cell_type": "code",
   "execution_count": 28,
   "metadata": {},
   "outputs": [],
   "source": [
    "oversampler = SMOTE(random_state=1)\n",
    "features_train_over, target_train_over = oversampler.fit_resample(features_train, target_train)"
   ]
  },
  {
   "cell_type": "code",
   "execution_count": 29,
   "metadata": {},
   "outputs": [
    {
     "name": "stdout",
     "output_type": "stream",
     "text": [
      "n_est: 50 depth 9 f1: 0.5974999999999999\n"
     ]
    }
   ],
   "source": [
    "f1_score_best = 0\n",
    "for est in range(10, 51, 10):\n",
    "    for depth in range(1, 10):\n",
    "        model = RandomForestClassifier(random_state=1, n_estimators=est, max_depth=depth)\n",
    "        model.fit(features_train_over, target_train_over)\n",
    "        predictions = model.predict(features_valid)\n",
    "        if f1_score(target_valid, predictions) > f1_score_best:\n",
    "            best_model = model\n",
    "            best_n_est = est\n",
    "            best_depth = depth\n",
    "            f1_score_best = f1_score(target_valid, predictions)\n",
    "print('n_est:', best_n_est, 'depth', best_depth, 'f1:', f1_score_best)"
   ]
  },
  {
   "cell_type": "markdown",
   "metadata": {},
   "source": [
    "После применения метода Oversampling f1 метрика выросла до 0.597"
   ]
  },
  {
   "cell_type": "markdown",
   "metadata": {},
   "source": [
    "Попробуем добавить гиперпараметр class_weight к модели с наиболее высокой метрикой f1"
   ]
  },
  {
   "cell_type": "code",
   "execution_count": 31,
   "metadata": {},
   "outputs": [
    {
     "name": "stdout",
     "output_type": "stream",
     "text": [
      "n_est: 10 depth 5 f1: 0.5682074408117249\n"
     ]
    }
   ],
   "source": [
    "f1_score_best = 0\n",
    "for est in range(10, 51, 10):\n",
    "    for depth in range(1, 10):\n",
    "        model = RandomForestClassifier(random_state=1, n_estimators=est, max_depth=depth, class_weight='balanced')\n",
    "        model.fit(features_train_under, target_train_under)\n",
    "        predictions = model.predict(features_valid)\n",
    "        if f1_score(target_valid, predictions) > f1_score_best:\n",
    "            best_model = model\n",
    "            best_n_est = est\n",
    "            best_depth = depth\n",
    "            f1_score_best = f1_score(target_valid, predictions)\n",
    "print('n_est:', best_n_est, 'depth', best_depth, 'f1:', f1_score_best)"
   ]
  },
  {
   "cell_type": "markdown",
   "metadata": {},
   "source": [
    "f1 метрика понизилась до 0,568"
   ]
  },
  {
   "cell_type": "code",
   "execution_count": 32,
   "metadata": {},
   "outputs": [
    {
     "name": "stdout",
     "output_type": "stream",
     "text": [
      "n_est: 50 depth 8 f1: 0.6129870129870131\n"
     ]
    }
   ],
   "source": [
    "f1_score_best = 0\n",
    "for est in range(10, 51, 10):\n",
    "    for depth in range(1, 10):\n",
    "        model = RandomForestClassifier(random_state=1, n_estimators=est, max_depth=depth, class_weight='balanced')\n",
    "        model.fit(features_train, target_train)\n",
    "        predictions = model.predict(features_valid)\n",
    "        if f1_score(target_valid, predictions) > f1_score_best:\n",
    "            best_model = model\n",
    "            best_n_est = est\n",
    "            best_depth = depth\n",
    "            f1_score_best = f1_score(target_valid, predictions)\n",
    "print('n_est:', best_n_est, 'depth', best_depth, 'f1:', f1_score_best)"
   ]
  },
  {
   "cell_type": "markdown",
   "metadata": {},
   "source": [
    "При добавлении гиперпараметра class_weight на необработанную выборку f1 метрика составила 0,61, что является лучшим значением"
   ]
  },
  {
   "cell_type": "markdown",
   "metadata": {},
   "source": [
    "## Тестирование модели"
   ]
  },
  {
   "cell_type": "code",
   "execution_count": 35,
   "metadata": {},
   "outputs": [
    {
     "name": "stdout",
     "output_type": "stream",
     "text": [
      "              precision    recall  f1-score   support\n",
      "\n",
      "           0       0.91      0.86      0.88      1441\n",
      "           1       0.56      0.67      0.61       378\n",
      "\n",
      "    accuracy                           0.82      1819\n",
      "   macro avg       0.73      0.76      0.74      1819\n",
      "weighted avg       0.83      0.82      0.83      1819\n",
      "\n"
     ]
    }
   ],
   "source": [
    "predictions_test = best_model.predict(features_test)\n",
    "print(classification_report(target_test, predictions_test))"
   ]
  },
  {
   "cell_type": "markdown",
   "metadata": {},
   "source": [
    "При проверке на тестовой выборке метрика F1 составила 0,61, что является выше порогового значения, а значит данная модель нам подходит"
   ]
  },
  {
   "cell_type": "markdown",
   "metadata": {},
   "source": [
    "В данном проекте была выбрана оптимальная модель для выполнения задачи классификации клиентов банка и предсказанию их ухода. В результате исследования наиболее точной по метрике F1 оказалась модель Случайного леса, которая и была выбрана для дальнейшей работы, в ходе которой была проведена работа над дисбалансом. Были опробованы два метода борьбы с дисбалансом, upsampling и downsampling. Модель с наибольшей метрикой F1 оказалась модель случайного леса с гиперпараметрами max_depth=8, n_estimators=50. При борьбе с дисбалансом наиболее хорошо себя показал гиперпараметр class_weight. Метрика данной модели на тестовой выборке составила 0,61"
   ]
  }
 ],
 "metadata": {
  "kernelspec": {
   "display_name": "Python 3 (ipykernel)",
   "language": "python",
   "name": "python3"
  },
  "language_info": {
   "codemirror_mode": {
    "name": "ipython",
    "version": 3
   },
   "file_extension": ".py",
   "mimetype": "text/x-python",
   "name": "python",
   "nbconvert_exporter": "python",
   "pygments_lexer": "ipython3",
   "version": "3.9.12"
  },
  "toc": {
   "base_numbering": 1,
   "nav_menu": {},
   "number_sections": true,
   "sideBar": true,
   "skip_h1_title": true,
   "title_cell": "Содержание",
   "title_sidebar": "Contents",
   "toc_cell": true,
   "toc_position": {},
   "toc_section_display": true,
   "toc_window_display": false
  }
 },
 "nbformat": 4,
 "nbformat_minor": 2
}
