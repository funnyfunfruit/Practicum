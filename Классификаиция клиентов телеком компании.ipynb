{
 "cells": [
  {
   "cell_type": "markdown",
   "metadata": {},
   "source": [
    "# Рекомендация тарифов"
   ]
  },
  {
   "cell_type": "markdown",
   "metadata": {},
   "source": [
    "В вашем распоряжении данные о поведении клиентов, которые уже перешли на эти тарифы (из проекта курса «Статистический анализ данных»). Нужно построить модель для задачи классификации, которая выберет подходящий тариф. Предобработка данных не понадобится — вы её уже сделали.\n",
    "\n",
    "Постройте модель с максимально большим значением *accuracy*. Чтобы сдать проект успешно, нужно довести долю правильных ответов по крайней мере до 0.75. Проверьте *accuracy* на тестовой выборке самостоятельно."
   ]
  },
  {
   "cell_type": "markdown",
   "metadata": {},
   "source": [
    "## Откройте и изучите файл"
   ]
  },
  {
   "cell_type": "code",
   "execution_count": 1,
   "metadata": {},
   "outputs": [],
   "source": [
    "import pandas as pd\n",
    "from sklearn.model_selection import train_test_split\n",
    "from sklearn.tree import DecisionTreeClassifier\n",
    "from sklearn.metrics import accuracy_score\n",
    "from sklearn.ensemble import RandomForestClassifier\n",
    "from sklearn.linear_model import LogisticRegression\n",
    "from sklearn.dummy import DummyClassifier"
   ]
  },
  {
   "cell_type": "code",
   "execution_count": 2,
   "metadata": {},
   "outputs": [
    {
     "data": {
      "text/html": [
       "<div>\n",
       "<style scoped>\n",
       "    .dataframe tbody tr th:only-of-type {\n",
       "        vertical-align: middle;\n",
       "    }\n",
       "\n",
       "    .dataframe tbody tr th {\n",
       "        vertical-align: top;\n",
       "    }\n",
       "\n",
       "    .dataframe thead th {\n",
       "        text-align: right;\n",
       "    }\n",
       "</style>\n",
       "<table border=\"1\" class=\"dataframe\">\n",
       "  <thead>\n",
       "    <tr style=\"text-align: right;\">\n",
       "      <th></th>\n",
       "      <th>calls</th>\n",
       "      <th>minutes</th>\n",
       "      <th>messages</th>\n",
       "      <th>mb_used</th>\n",
       "      <th>is_ultra</th>\n",
       "    </tr>\n",
       "  </thead>\n",
       "  <tbody>\n",
       "    <tr>\n",
       "      <th>0</th>\n",
       "      <td>40.0</td>\n",
       "      <td>311.90</td>\n",
       "      <td>83.0</td>\n",
       "      <td>19915.42</td>\n",
       "      <td>0</td>\n",
       "    </tr>\n",
       "    <tr>\n",
       "      <th>1</th>\n",
       "      <td>85.0</td>\n",
       "      <td>516.75</td>\n",
       "      <td>56.0</td>\n",
       "      <td>22696.96</td>\n",
       "      <td>0</td>\n",
       "    </tr>\n",
       "    <tr>\n",
       "      <th>2</th>\n",
       "      <td>77.0</td>\n",
       "      <td>467.66</td>\n",
       "      <td>86.0</td>\n",
       "      <td>21060.45</td>\n",
       "      <td>0</td>\n",
       "    </tr>\n",
       "    <tr>\n",
       "      <th>3</th>\n",
       "      <td>106.0</td>\n",
       "      <td>745.53</td>\n",
       "      <td>81.0</td>\n",
       "      <td>8437.39</td>\n",
       "      <td>1</td>\n",
       "    </tr>\n",
       "    <tr>\n",
       "      <th>4</th>\n",
       "      <td>66.0</td>\n",
       "      <td>418.74</td>\n",
       "      <td>1.0</td>\n",
       "      <td>14502.75</td>\n",
       "      <td>0</td>\n",
       "    </tr>\n",
       "  </tbody>\n",
       "</table>\n",
       "</div>"
      ],
      "text/plain": [
       "   calls  minutes  messages   mb_used  is_ultra\n",
       "0   40.0   311.90      83.0  19915.42         0\n",
       "1   85.0   516.75      56.0  22696.96         0\n",
       "2   77.0   467.66      86.0  21060.45         0\n",
       "3  106.0   745.53      81.0   8437.39         1\n",
       "4   66.0   418.74       1.0  14502.75         0"
      ]
     },
     "execution_count": 2,
     "metadata": {},
     "output_type": "execute_result"
    }
   ],
   "source": [
    "df = pd.read_csv('/datasets/users_behavior.csv')\n",
    "df.head()"
   ]
  },
  {
   "cell_type": "code",
   "execution_count": 3,
   "metadata": {},
   "outputs": [
    {
     "data": {
      "image/png": "[encoded data removed]",
      "text/plain": [
       "<Figure size 720x720 with 6 Axes>"
      ]
     },
     "metadata": {
      "needs_background": "light"
     },
     "output_type": "display_data"
    }
   ],
   "source": [
    "df.hist(figsize=(10,10));"
   ]
  },
  {
   "cell_type": "code",
   "execution_count": 4,
   "metadata": {},
   "outputs": [
    {
     "name": "stdout",
     "output_type": "stream",
     "text": [
      "<class 'pandas.core.frame.DataFrame'>\n",
      "RangeIndex: 3214 entries, 0 to 3213\n",
      "Data columns (total 5 columns):\n",
      " #   Column    Non-Null Count  Dtype  \n",
      "---  ------    --------------  -----  \n",
      " 0   calls     3214 non-null   float64\n",
      " 1   minutes   3214 non-null   float64\n",
      " 2   messages  3214 non-null   float64\n",
      " 3   mb_used   3214 non-null   float64\n",
      " 4   is_ultra  3214 non-null   int64  \n",
      "dtypes: float64(4), int64(1)\n",
      "memory usage: 125.7 KB\n"
     ]
    }
   ],
   "source": [
    "df.info()"
   ]
  },
  {
   "cell_type": "code",
   "execution_count": 5,
   "metadata": {},
   "outputs": [
    {
     "data": {
      "text/plain": [
       "calls       0\n",
       "minutes     0\n",
       "messages    0\n",
       "mb_used     0\n",
       "is_ultra    0\n",
       "dtype: int64"
      ]
     },
     "execution_count": 5,
     "metadata": {},
     "output_type": "execute_result"
    }
   ],
   "source": [
    "df.isna().sum()"
   ]
  },
  {
   "cell_type": "code",
   "execution_count": 6,
   "metadata": {},
   "outputs": [
    {
     "name": "stdout",
     "output_type": "stream",
     "text": [
      "calls [ 40.  85.  77. 106.  66.  58.  57.  15.   7.  90.  82.  45.  51.  56.\n",
      " 108.   6.   2.  26.  79.  49.  93.  48.  11.  53.  81. 154.  37.  50.\n",
      "  41.  10.  71.  65. 110. 120.  76.  64.  23.  34.  98.  35.   5.  70.\n",
      " 124. 129.  67.   0.  13.  68.  91. 121. 114. 125.  80.  33. 138.  84.\n",
      "  78.  69.  63.  72.  73.   1.  43. 118.  74.  83. 141. 117.  54. 101.\n",
      "  29.   3. 107.  55.  47. 158.  87.  28.  59.  52.  44.  17. 111. 109.\n",
      "  14.  92.  94.  46. 133.  75.  38.  60. 100.  31.  61.  89.  27. 196.\n",
      "  24.  99.  62. 162. 116. 123.  18.  21.  12.  86.  32.  95.  39.  30.\n",
      "  25.  36.  42. 113.   9. 183. 156. 127.  96.  16.   4. 102.  97.  20.\n",
      " 104. 144.  19. 132. 131. 136.  88. 115. 176. 160. 164. 169.  22. 105.\n",
      " 152. 177. 161. 112.   8. 126. 178. 103. 130. 198. 119. 137. 150. 122.\n",
      " 146. 151. 157. 203. 143. 148. 128. 185. 167. 181. 184. 171. 153. 140.\n",
      " 159. 188. 134. 189. 182. 173. 172. 145. 180. 155. 174. 244. 165. 163.\n",
      " 142. 168.]\n",
      "minutes [311.9  516.75 467.66 ... 634.44 462.32 566.09]\n",
      "messages [ 83.  56.  86.  81.   1.  21.  20.   6.   3.  38.  13.  61.  16.   0.\n",
      "   4.  90.  31.  97.  66.  19.  30.  52.  48.  44.  27.   7.   9.  43.\n",
      "  33.  34.  10. 106.  65.  17.  11.  29.  75.  47.  49.  64. 144.  99.\n",
      "  46.  24.  22.  55.   8.  93. 153.  37.  69.  18.  78.  42.  82.  62.\n",
      "  40.  57.  60.  58. 123.  26.  51. 109.   5.  39.  35.  79.  12. 182.\n",
      "  36. 126.  59. 102.  14. 133. 110.  54.  72. 103.  23. 108.  92.  73.\n",
      "  15.  25.  91. 113. 105.  85. 191.  32.  50. 145.  41. 150.  53. 171.\n",
      " 176.  68.  28.  76.  71. 118.  63. 132.  84.   2.  67. 111. 101.  96.\n",
      " 112.  95.  89. 143.  45.  70.  77.  94. 137. 107.  98. 141. 124. 129.\n",
      " 114.  87.  80. 117. 138. 142. 134. 128. 180. 115. 154.  74. 185. 121.\n",
      " 127. 116.  88. 140. 201. 100. 169. 155. 135. 151. 139. 131. 188. 157.\n",
      " 148. 104. 224. 158. 211. 120. 149. 190. 173. 172. 146. 162. 119. 178.\n",
      " 223. 130. 122. 159. 181. 125. 152. 197. 136. 165. 183. 170.]\n",
      "mb_used [19915.42 22696.96 21060.45 ... 13974.06 31239.78 29480.52]\n",
      "is_ultra [0 1]\n"
     ]
    }
   ],
   "source": [
    "for column in df:\n",
    "    print(column, df[column].unique())"
   ]
  },
  {
   "cell_type": "markdown",
   "metadata": {},
   "source": [
    "## Разбейте данные на выборки"
   ]
  },
  {
   "cell_type": "code",
   "execution_count": 7,
   "metadata": {},
   "outputs": [
    {
     "name": "stdout",
     "output_type": "stream",
     "text": [
      "Features_train: (1928, 4)\n",
      "Target_train: (1928,)\n",
      "Target_test: (643,)\n",
      "Features_test: (643, 4)\n",
      "Features_valid: (643, 4)\n",
      "Target_valid: (643,)\n"
     ]
    }
   ],
   "source": [
    "features = df.drop(columns=['is_ultra'])\n",
    "target = df['is_ultra']\n",
    "\n",
    "features_train, features_test, target_train, target_test = train_test_split(features, target, test_size=0.4, \\\n",
    "                                                                              random_state=12345)\n",
    "\n",
    "features_valid, features_test, target_valid, target_test = train_test_split(features_test, target_test, test_size=0.5, \\\n",
    "                                                                           random_state=12345)\n",
    "\n",
    "print('Features_train:', features_train.shape)\n",
    "print('Target_train:', target_train.shape)\n",
    "print('Target_test:', target_test.shape)\n",
    "print('Features_test:', features_test.shape)\n",
    "print('Features_valid:', features_valid.shape)\n",
    "print('Target_valid:', target_valid.shape)"
   ]
  },
  {
   "cell_type": "markdown",
   "metadata": {},
   "source": [
    "В переменные features и target определим признаки и целевую функцию соответственно. Затем методом *train_test_split* разделим выборку на тренировочную, валидационную и тестовую выборки в соотношении 3:1:1"
   ]
  },
  {
   "cell_type": "markdown",
   "metadata": {},
   "source": [
    "## Исследуйте модели"
   ]
  },
  {
   "cell_type": "code",
   "execution_count": 8,
   "metadata": {},
   "outputs": [
    {
     "name": "stdout",
     "output_type": "stream",
     "text": [
      "Best depth: 3\n",
      "Best accuracy 0.7853810264385692\n"
     ]
    }
   ],
   "source": [
    "best_model = None\n",
    "best_depth = 0\n",
    "best_accuracy = 0\n",
    "for depth in range(1, 301):\n",
    "    model = DecisionTreeClassifier(max_depth=depth, criterion='gini', random_state=12345)\n",
    "    model.fit(features_train, target_train)\n",
    "    predictions = model.predict(features_valid)\n",
    "    accuracy = accuracy_score(predictions, target_valid)\n",
    "    if accuracy > best_accuracy:\n",
    "        best_accuracy = accuracy\n",
    "        best_model = model\n",
    "        best_depth = depth\n",
    "print('Best depth:', best_depth)\n",
    "print('Best accuracy', best_accuracy)"
   ]
  },
  {
   "cell_type": "markdown",
   "metadata": {},
   "source": [
    "В модели дерева наиболее точная модель - модель с глубиной 3, так как далее, вероятно, идет переобучение"
   ]
  },
  {
   "cell_type": "code",
   "execution_count": 9,
   "metadata": {},
   "outputs": [
    {
     "name": "stdout",
     "output_type": "stream",
     "text": [
      "Best est: 100\n",
      "Best depth: 10\n",
      "Best accuracy: 0.7993779160186625\n"
     ]
    }
   ],
   "source": [
    "best_model = None\n",
    "best_depth = 0\n",
    "best_accuracy = 0\n",
    "best_est = 0\n",
    "for depth in range(10, 301, 10):\n",
    "    for est in range(1, 101):\n",
    "        model = RandomForestClassifier(random_state=12345, n_estimators=est, max_depth=depth)\n",
    "        model.fit(features_train, target_train)\n",
    "        predictions = model.predict(features_valid)\n",
    "        accuracy = accuracy_score(predictions, target_valid)\n",
    "        if accuracy > best_accuracy:\n",
    "            best_accuracy = accuracy\n",
    "            best_depth = depth\n",
    "            best_model = model\n",
    "            best_est = est\n",
    "print('Best est:', est)\n",
    "print('Best depth:', best_depth)\n",
    "print('Best accuracy:', best_accuracy)"
   ]
  },
  {
   "cell_type": "markdown",
   "metadata": {},
   "source": [
    "В модели случайного леса наиболее точные предсказания при параметре n_estimators=100, depth=10"
   ]
  },
  {
   "cell_type": "code",
   "execution_count": 10,
   "metadata": {},
   "outputs": [
    {
     "name": "stdout",
     "output_type": "stream",
     "text": [
      "Accuracy: 0.7107309486780715\n"
     ]
    }
   ],
   "source": [
    "model = LogisticRegression(random_state=12345)\n",
    "model.fit(features_train, target_train)\n",
    "predictions = model.predict(features_valid)\n",
    "accuracy = accuracy_score(predictions, target_valid)\n",
    "print('Accuracy:', accuracy)"
   ]
  },
  {
   "cell_type": "markdown",
   "metadata": {},
   "source": [
    "Моделью с наименее точными предсказаниями является модель логистической регрессии, результат: 0,7107"
   ]
  },
  {
   "cell_type": "markdown",
   "metadata": {},
   "source": [
    "Таким образом выбираем модель случайного леса со следующими гиперпараметрами: n_estimators=100, max_depth=10"
   ]
  },
  {
   "cell_type": "markdown",
   "metadata": {},
   "source": [
    "## Проверьте модель на тестовой выборке"
   ]
  },
  {
   "cell_type": "code",
   "execution_count": 11,
   "metadata": {},
   "outputs": [
    {
     "name": "stdout",
     "output_type": "stream",
     "text": [
      "Accuracy: 0.8055987558320373\n"
     ]
    }
   ],
   "source": [
    "model = RandomForestClassifier(random_state=12345, n_estimators=100, max_depth=10)\n",
    "model.fit(features_train, target_train)\n",
    "predictions = model.predict(features_test)\n",
    "accuracy = accuracy_score(predictions, target_test)\n",
    "print('Accuracy:', accuracy)"
   ]
  },
  {
   "cell_type": "markdown",
   "metadata": {},
   "source": [
    "На тестовой выборке модель показала больший процент правильных ответов, чем на валидационной"
   ]
  },
  {
   "cell_type": "markdown",
   "metadata": {},
   "source": [
    "## (бонус) Проверьте модели на адекватность"
   ]
  },
  {
   "cell_type": "code",
   "execution_count": 12,
   "metadata": {},
   "outputs": [
    {
     "name": "stdout",
     "output_type": "stream",
     "text": [
      "0.6842923794712286\n"
     ]
    }
   ],
   "source": [
    "dummy = DummyClassifier()\n",
    "dummy.fit(features_train, target_train)\n",
    "dummy_prediction = dummy.predict(features_test)\n",
    "print(dummy.score(dummy_prediction, target_test))"
   ]
  },
  {
   "cell_type": "markdown",
   "metadata": {},
   "source": [
    "Проверим адекватность конечной модели с помощью DummyClassifier. Если score построенной нами модели больше, чем score SummyClassifier, то модель можно считать адекватной, что и получилось в нашем случае."
   ]
  },
  {
   "cell_type": "markdown",
   "metadata": {},
   "source": [
    "**Вывод:** \n",
    "<ol>\n",
    "    <li>в ходе проекта было проведено исследование, в ходе которого перебирались разные модели машинного обучения (DecisionTreeClassifier, RandomForestClassifier, LogisticRegression) с различными гиперпараметрами (depth, n_estimators), в результате чего была выбрана оптимальная модель машинного обучения для задачи классификации, которой оказалась модель случайного леса. </li>\n",
    "    <li>AccuracyScore обученной модели на валидационной выборке составила 0.79, в то время как на тестовой выборке 0.80.</li>\n",
    "    <li>Также модель была проверена на адекватность с помощью метода DummyClassifier, в результате проверки было обосновано предположение об адекватности модели.</li>\n",
    "</ol>"
   ]
  }
 ],
 "metadata": {
  "ExecuteTimeLog": [
   {
    "duration": 373,
    "start_time": "2023-01-20T08:33:16.426Z"
   },
   {
    "duration": 162,
    "start_time": "2023-01-20T08:33:34.613Z"
   },
   {
    "duration": 34,
    "start_time": "2023-01-20T08:33:38.848Z"
   },
   {
    "duration": 37,
    "start_time": "2023-01-20T08:33:40.981Z"
   },
   {
    "duration": 1363,
    "start_time": "2023-01-20T08:34:08.335Z"
   },
   {
    "duration": 563,
    "start_time": "2023-01-20T08:34:12.694Z"
   },
   {
    "duration": 3,
    "start_time": "2023-01-20T08:35:47.139Z"
   },
   {
    "duration": 38,
    "start_time": "2023-01-20T08:35:47.736Z"
   },
   {
    "duration": 555,
    "start_time": "2023-01-20T08:35:48.333Z"
   },
   {
    "duration": 689,
    "start_time": "2023-01-20T08:36:32.632Z"
   },
   {
    "duration": 116,
    "start_time": "2023-01-20T08:39:30.981Z"
   },
   {
    "duration": 7,
    "start_time": "2023-01-20T08:39:41.929Z"
   },
   {
    "duration": 47,
    "start_time": "2023-01-20T08:42:18.658Z"
   },
   {
    "duration": 3,
    "start_time": "2023-01-20T08:43:08.841Z"
   },
   {
    "duration": 19,
    "start_time": "2023-01-20T08:51:50.101Z"
   },
   {
    "duration": 3,
    "start_time": "2023-01-20T08:51:57.389Z"
   },
   {
    "duration": 70,
    "start_time": "2023-01-20T08:52:00.881Z"
   },
   {
    "duration": 12,
    "start_time": "2023-01-20T08:53:30.969Z"
   },
   {
    "duration": 68,
    "start_time": "2023-01-20T08:53:58.440Z"
   },
   {
    "duration": 68,
    "start_time": "2023-01-20T08:58:29.817Z"
   },
   {
    "duration": 75,
    "start_time": "2023-01-20T08:58:42.462Z"
   },
   {
    "duration": 77,
    "start_time": "2023-01-20T08:58:45.089Z"
   },
   {
    "duration": 76,
    "start_time": "2023-01-20T08:58:46.441Z"
   },
   {
    "duration": 62,
    "start_time": "2023-01-20T08:58:47.616Z"
   },
   {
    "duration": 60,
    "start_time": "2023-01-20T08:58:48.828Z"
   },
   {
    "duration": 78,
    "start_time": "2023-01-20T08:58:59.316Z"
   },
   {
    "duration": 1276,
    "start_time": "2023-01-20T08:59:04.983Z"
   },
   {
    "duration": 1415,
    "start_time": "2023-01-20T08:59:34.720Z"
   },
   {
    "duration": 1294,
    "start_time": "2023-01-20T09:00:09.529Z"
   },
   {
    "duration": 1326,
    "start_time": "2023-01-20T09:00:43.063Z"
   },
   {
    "duration": 66,
    "start_time": "2023-01-20T09:00:53.349Z"
   },
   {
    "duration": 72,
    "start_time": "2023-01-20T09:00:56.278Z"
   },
   {
    "duration": 21,
    "start_time": "2023-01-20T09:02:34.921Z"
   },
   {
    "duration": 140902,
    "start_time": "2023-01-20T09:02:39.261Z"
   },
   {
    "duration": 146512,
    "start_time": "2023-01-20T09:05:55.516Z"
   },
   {
    "duration": 3,
    "start_time": "2023-01-20T09:10:35.598Z"
   },
   {
    "duration": 11,
    "start_time": "2023-01-20T09:13:05.283Z"
   },
   {
    "duration": 715,
    "start_time": "2023-01-20T09:13:17.256Z"
   },
   {
    "duration": 434,
    "start_time": "2023-01-20T09:13:23.533Z"
   },
   {
    "duration": 8,
    "start_time": "2023-01-20T09:19:57.697Z"
   },
   {
    "duration": 62,
    "start_time": "2023-01-20T09:20:02.223Z"
   },
   {
    "duration": 120455,
    "start_time": "2023-01-20T09:20:03.946Z"
   },
   {
    "duration": 23,
    "start_time": "2023-01-20T09:23:21.963Z"
   },
   {
    "duration": 303,
    "start_time": "2023-01-20T09:24:32.008Z"
   },
   {
    "duration": 6,
    "start_time": "2023-01-20T11:36:33.222Z"
   },
   {
    "duration": 5,
    "start_time": "2023-01-20T11:38:15.288Z"
   },
   {
    "duration": 5,
    "start_time": "2023-01-20T11:38:31.111Z"
   },
   {
    "duration": 11,
    "start_time": "2023-01-20T11:50:27.097Z"
   },
   {
    "duration": 15,
    "start_time": "2023-01-20T11:50:33.312Z"
   },
   {
    "duration": 6,
    "start_time": "2023-01-20T11:50:37.724Z"
   },
   {
    "duration": 4,
    "start_time": "2023-01-20T11:51:01.910Z"
   },
   {
    "duration": 11,
    "start_time": "2023-01-20T11:51:44.785Z"
   },
   {
    "duration": 1752,
    "start_time": "2023-01-20T15:34:26.074Z"
   },
   {
    "duration": 139,
    "start_time": "2023-01-20T15:34:27.828Z"
   },
   {
    "duration": 700,
    "start_time": "2023-01-20T15:34:27.969Z"
   },
   {
    "duration": 10,
    "start_time": "2023-01-20T15:34:28.671Z"
   },
   {
    "duration": 5,
    "start_time": "2023-01-20T15:34:28.683Z"
   },
   {
    "duration": 8,
    "start_time": "2023-01-20T15:34:28.689Z"
   },
   {
    "duration": 7,
    "start_time": "2023-01-20T15:34:28.698Z"
   },
   {
    "duration": 88,
    "start_time": "2023-01-20T15:34:28.706Z"
   },
   {
    "duration": 115027,
    "start_time": "2023-01-20T15:34:28.796Z"
   },
   {
    "duration": 33,
    "start_time": "2023-01-20T15:36:23.825Z"
   },
   {
    "duration": 315,
    "start_time": "2023-01-20T15:36:23.860Z"
   },
   {
    "duration": 4,
    "start_time": "2023-01-20T15:36:24.177Z"
   },
   {
    "duration": 6,
    "start_time": "2023-01-20T15:36:37.493Z"
   },
   {
    "duration": 1081,
    "start_time": "2023-01-20T20:29:05.053Z"
   },
   {
    "duration": 129,
    "start_time": "2023-01-20T20:29:06.715Z"
   },
   {
    "duration": 868,
    "start_time": "2023-01-20T20:29:07.754Z"
   },
   {
    "duration": 12,
    "start_time": "2023-01-20T20:29:09.623Z"
   },
   {
    "duration": 5,
    "start_time": "2023-01-20T20:29:11.586Z"
   },
   {
    "duration": 9,
    "start_time": "2023-01-20T20:29:12.055Z"
   },
   {
    "duration": 8,
    "start_time": "2023-01-20T20:29:14.721Z"
   },
   {
    "duration": 45,
    "start_time": "2023-01-20T20:29:43.831Z"
   },
   {
    "duration": 8,
    "start_time": "2023-01-20T20:29:47.597Z"
   },
   {
    "duration": 9,
    "start_time": "2023-01-20T20:31:37.033Z"
   },
   {
    "duration": 11,
    "start_time": "2023-01-20T20:32:09.123Z"
   },
   {
    "duration": 77,
    "start_time": "2023-01-20T20:32:15.396Z"
   },
   {
    "duration": 2725,
    "start_time": "2023-01-20T20:32:31.261Z"
   },
   {
    "duration": 2789,
    "start_time": "2023-01-20T20:32:53.216Z"
   },
   {
    "duration": 2837,
    "start_time": "2023-01-20T20:33:00.555Z"
   },
   {
    "duration": 31483,
    "start_time": "2023-01-20T20:33:29.784Z"
   },
   {
    "duration": 557916,
    "start_time": "2023-01-20T20:34:20.338Z"
   },
   {
    "duration": 26,
    "start_time": "2023-01-20T20:44:28.177Z"
   },
   {
    "duration": 295,
    "start_time": "2023-01-20T20:44:33.153Z"
   },
   {
    "duration": 5,
    "start_time": "2023-01-20T20:44:36.381Z"
   },
   {
    "duration": 893,
    "start_time": "2023-01-21T07:01:41.594Z"
   },
   {
    "duration": 41,
    "start_time": "2023-01-21T07:01:42.489Z"
   },
   {
    "duration": 718,
    "start_time": "2023-01-21T07:01:42.534Z"
   },
   {
    "duration": 11,
    "start_time": "2023-01-21T07:01:43.253Z"
   },
   {
    "duration": 8,
    "start_time": "2023-01-21T07:01:43.265Z"
   },
   {
    "duration": 10,
    "start_time": "2023-01-21T07:01:43.274Z"
   },
   {
    "duration": 8,
    "start_time": "2023-01-21T07:01:43.285Z"
   },
   {
    "duration": 3029,
    "start_time": "2023-01-21T07:01:43.295Z"
   },
   {
    "duration": 626617,
    "start_time": "2023-01-21T07:01:46.326Z"
   },
   {
    "duration": 20,
    "start_time": "2023-01-21T07:12:12.945Z"
   },
   {
    "duration": 342,
    "start_time": "2023-01-21T07:12:12.967Z"
   },
   {
    "duration": 5,
    "start_time": "2023-01-21T07:12:13.311Z"
   }
  ],
  "kernelspec": {
   "display_name": "Python 3 (ipykernel)",
   "language": "python",
   "name": "python3"
  },
  "language_info": {
   "codemirror_mode": {
    "name": "ipython",
    "version": 3
   },
   "file_extension": ".py",
   "mimetype": "text/x-python",
   "name": "python",
   "nbconvert_exporter": "python",
   "pygments_lexer": "ipython3",
   "version": "3.9.12"
  },
  "toc": {
   "base_numbering": 1,
   "nav_menu": {},
   "number_sections": true,
   "sideBar": true,
   "skip_h1_title": true,
   "title_cell": "Table of Contents",
   "title_sidebar": "Contents",
   "toc_cell": false,
   "toc_position": {
    "height": "calc(100% - 180px)",
    "left": "10px",
    "top": "150px",
    "width": "165px"
   },
   "toc_section_display": true,
   "toc_window_display": true
  }
 },
 "nbformat": 4,
 "nbformat_minor": 2
}
